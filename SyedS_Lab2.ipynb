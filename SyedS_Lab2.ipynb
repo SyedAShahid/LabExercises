{
  "nbformat": 4,
  "nbformat_minor": 0,
  "metadata": {
    "colab": {
      "name": "SyedS_Lab2.ipynb",
      "provenance": [],
      "mount_file_id": "1Eay1GRt7jZUzgapqLwF4w1vlNdeDxJp2",
      "authorship_tag": "ABX9TyMkaPth4tS5naEzFTHbsUnO",
      "include_colab_link": true
    },
    "kernelspec": {
      "name": "python3",
      "display_name": "Python 3"
    },
    "language_info": {
      "name": "python"
    }
  },
  "cells": [
    {
      "cell_type": "markdown",
      "metadata": {
        "id": "view-in-github",
        "colab_type": "text"
      },
      "source": [
        "<a href=\"https://colab.research.google.com/github/SyedAShahid/LabExercises/blob/main/SyedS_Lab2.ipynb\" target=\"_parent\"><img src=\"https://colab.research.google.com/assets/colab-badge.svg\" alt=\"Open In Colab\"/></a>"
      ]
    },
    {
      "cell_type": "code",
      "execution_count": 1,
      "metadata": {
        "colab": {
          "base_uri": "https://localhost:8080/"
        },
        "id": "t0p5msUirL3b",
        "outputId": "cb9791d6-7487-44ea-b9af-208cead7c5a5"
      },
      "outputs": [
        {
          "output_type": "stream",
          "name": "stdout",
          "text": [
            "   years  developmentCost  operationalCost  valueOfBenefits\n",
            "0      0             -100                0                0\n",
            "1      1              -30              -10               25\n",
            "2      2                0              -15               55\n",
            "3      3                0              -15               85\n"
          ]
        }
      ],
      "source": [
        "import pandas as pd\n",
        "import math \n",
        "\n",
        "#read data \n",
        "\n",
        "dataT=pd.read_csv('/content/drive/MyDrive/Copy of 262-CBA.csv')\n",
        "print(dataT)"
      ]
    },
    {
      "cell_type": "markdown",
      "source": [
        "# New Section"
      ],
      "metadata": {
        "id": "W5CBzkJ8rdv3"
      }
    },
    {
      "cell_type": "code",
      "source": [
        "DiscountRate = 0.05\n",
        "# the compoudning discount over the years\n",
        "\n",
        "DiscountFactor = [0,0,0,0]\n",
        "for year in dataT['years']:\n",
        "  DiscountFactor[year] = 1/math.pow(1+DiscountRate, year)\n",
        "\n",
        "dataT['DiscountFactor']= [round(num,2) for num in DiscountFactor]\n",
        "print(dataT)\n"
      ],
      "metadata": {
        "colab": {
          "base_uri": "https://localhost:8080/"
        },
        "id": "geK_8ARJuWxQ",
        "outputId": "81d17fa0-25dd-4046-f520-2d5997898d1f"
      },
      "execution_count": 2,
      "outputs": [
        {
          "output_type": "stream",
          "name": "stdout",
          "text": [
            "   years  developmentCost  operationalCost  valueOfBenefits  DiscountFactor\n",
            "0      0             -100                0                0            1.00\n",
            "1      1              -30              -10               25            0.95\n",
            "2      2                0              -15               55            0.91\n",
            "3      3                0              -15               85            0.86\n"
          ]
        }
      ]
    },
    {
      "cell_type": "code",
      "source": [
        "# Calculate net benefit/cost for each year\n",
        "\n",
        "NetBC = [0,0,0,0]\n",
        "for year in dataT['years']:\n",
        "  NetBC[year] = dataT['developmentCost'][year] + dataT['operationalCost'][year] + dataT['valueOfBenefits'][year]\n",
        "\n",
        "dataT['NetBC'] = NetBC\n",
        "print(dataT)"
      ],
      "metadata": {
        "colab": {
          "base_uri": "https://localhost:8080/"
        },
        "id": "y_6oXDpsws2-",
        "outputId": "f890c29e-d268-49df-87dc-8b38c493743e"
      },
      "execution_count": 3,
      "outputs": [
        {
          "output_type": "stream",
          "name": "stdout",
          "text": [
            "   years  developmentCost  ...  DiscountFactor  NetBC\n",
            "0      0             -100  ...            1.00   -100\n",
            "1      1              -30  ...            0.95    -15\n",
            "2      2                0  ...            0.91     40\n",
            "3      3                0  ...            0.86     70\n",
            "\n",
            "[4 rows x 6 columns]\n"
          ]
        }
      ]
    },
    {
      "cell_type": "code",
      "source": [
        "#Calculate net present value \n",
        "\n",
        "NPV = [0,0,0,0]\n",
        "\n",
        "for year in dataT['years']:\n",
        "  NPV[year] = dataT['NetBC'][year]* dataT['DiscountFactor'][year]\n",
        "\n",
        "dataT['NPV'] = [round(num,2) for num in NPV]\n",
        "print(dataT)"
      ],
      "metadata": {
        "colab": {
          "base_uri": "https://localhost:8080/"
        },
        "id": "E_5PKQW8zjD8",
        "outputId": "dd601195-3531-47fb-92e1-3ca9a3c2e8e4"
      },
      "execution_count": 4,
      "outputs": [
        {
          "output_type": "stream",
          "name": "stdout",
          "text": [
            "   years  developmentCost  operationalCost  ...  DiscountFactor  NetBC     NPV\n",
            "0      0             -100                0  ...            1.00   -100 -100.00\n",
            "1      1              -30              -10  ...            0.95    -15  -14.25\n",
            "2      2                0              -15  ...            0.91     40   36.40\n",
            "3      3                0              -15  ...            0.86     70   60.20\n",
            "\n",
            "[4 rows x 7 columns]\n"
          ]
        }
      ]
    }
  ]
}