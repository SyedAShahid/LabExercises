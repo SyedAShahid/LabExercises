{
  "nbformat": 4,
  "nbformat_minor": 0,
  "metadata": {
    "colab": {
      "name": "SyedS-Lab3.ipynb",
      "provenance": [],
      "authorship_tag": "ABX9TyOyH+6saqhbKPY5K5M0XFNK",
      "include_colab_link": true
    },
    "kernelspec": {
      "name": "python3",
      "display_name": "Python 3"
    },
    "language_info": {
      "name": "python"
    }
  },
  "cells": [
    {
      "cell_type": "markdown",
      "metadata": {
        "id": "view-in-github",
        "colab_type": "text"
      },
      "source": [
        "<a href=\"https://colab.research.google.com/github/SyedAShahid/LabExercises/blob/main/SyedS_Lab3.ipynb\" target=\"_parent\"><img src=\"https://colab.research.google.com/assets/colab-badge.svg\" alt=\"Open In Colab\"/></a>"
      ]
    },
    {
      "cell_type": "code",
      "execution_count": null,
      "metadata": {
        "colab": {
          "base_uri": "https://localhost:8080/"
        },
        "id": "n_Si7LRmodNp",
        "outputId": "cd583ed1-0592-4548-a49b-575ba4ffda2a"
      },
      "outputs": [
        {
          "output_type": "stream",
          "name": "stdout",
          "text": [
            "Empty DataFrame\n",
            "Columns: [criteria, weight, ratingA, ratingB, scoreA, scoreB]\n",
            "Index: []\n"
          ]
        }
      ],
      "source": [
        "import pandas as pd\n",
        "import math\n",
        "\n",
        "#create a dataframe for our alternitive analysis martix \n",
        "AA = pd.DataFrame(columns = ['criteria', 'weight', 'ratingA','ratingB','scoreA','scoreB'])\n",
        "print(AA)"
      ]
    },
    {
      "cell_type": "code",
      "source": [
        "# first step: add a list of criteria\n",
        "AA['criteria']=['risk','ROI','customerSatisfaction','feasibility','strategicAlignment']\n",
        "print(AA)"
      ],
      "metadata": {
        "colab": {
          "base_uri": "https://localhost:8080/"
        },
        "id": "G1_BmWmMpYr8",
        "outputId": "9802ad45-5d8b-4b2d-9751-02d66c2905e4"
      },
      "execution_count": null,
      "outputs": [
        {
          "output_type": "stream",
          "name": "stdout",
          "text": [
            "               criteria  weight  ratingA  ratingB scoreA scoreB\n",
            "0                  risk    0.10        3        3    NaN    NaN\n",
            "1                   ROI    0.15        4        4    NaN    NaN\n",
            "2  customerSatisfaction    0.30        5        2    NaN    NaN\n",
            "3           feasibility    0.50        3        3    NaN    NaN\n",
            "4    strategicAlignment    0.30        2        2    NaN    NaN\n"
          ]
        }
      ]
    },
    {
      "cell_type": "code",
      "source": [
        "# second step: identify weights\n",
        "# weights show relative importance of each criterion\n",
        "# they must add up tp 1 (or 100 if you use percentages)\n",
        "AA['weight'] = [0.1,0.15,0.3,.5,.3]\n",
        "print(AA)"
      ],
      "metadata": {
        "colab": {
          "base_uri": "https://localhost:8080/"
        },
        "id": "YlSvKJY5p9Sz",
        "outputId": "5797e3a5-1475-4ccb-b502-d6b55d101eea"
      },
      "execution_count": null,
      "outputs": [
        {
          "output_type": "stream",
          "name": "stdout",
          "text": [
            "               criteria  weight  ratingA  ratingB scoreA scoreB\n",
            "0                  risk    0.10        3        3    NaN    NaN\n",
            "1                   ROI    0.15        4        4    NaN    NaN\n",
            "2  customerSatisfaction    0.30        5        2    NaN    NaN\n",
            "3           feasibility    0.50        3        3    NaN    NaN\n",
            "4    strategicAlignment    0.30        2        2    NaN    NaN\n"
          ]
        }
      ]
    },
    {
      "cell_type": "code",
      "source": [
        "# step 3: rate each alternative accross all critria\n",
        "# choose a scale: 1-5 or 1-7 or 1-10\n",
        "# higher number: an alternative is doing better regarding a given criterion \n",
        "\n",
        "num = int(input(\"How many numbers woudld you like to add for A??: \"))\n",
        "\n",
        "l1 = list(map(int,input(\"Please enter the numbers with a space between them: \").strip().split()))[:num]\n",
        "AA['ratingA'] = l1\n",
        "\n",
        "#AA['ratingA'] = [4,1,2,1,5]\n",
        "AA['ratingB'] = [3,4,2,3,2]\n",
        "\n",
        "# step 4: calculate partial score by multiplying weight * ratings\n",
        "\n",
        "for index, row in AA.iterrows():\n",
        "  AA['scoreA'][index] = row['ratingA']*row['weight']\n",
        "  AA['scoreB'][index] = row['ratingB']*row['weight']\n",
        "\n",
        "print(AA)"
      ],
      "metadata": {
        "colab": {
          "base_uri": "https://localhost:8080/",
          "height": 287
        },
        "id": "_Zn7gaKUqmLu",
        "outputId": "ba8b8572-4daa-45a9-e6b9-04966ddf688f"
      },
      "execution_count": null,
      "outputs": [
        {
          "name": "stdout",
          "output_type": "stream",
          "text": [
            "How many numbers woudld you like to add for A??: 5\n",
            "Please enter the numbers with a space between them: 2 3 4 5 6 \n",
            "How many numbers woudld you like to add for A??: 1 2 3 4 5\n"
          ]
        },
        {
          "output_type": "error",
          "ename": "ValueError",
          "evalue": "ignored",
          "traceback": [
            "\u001b[0;31m---------------------------------------------------------------------------\u001b[0m",
            "\u001b[0;31mValueError\u001b[0m                                Traceback (most recent call last)",
            "\u001b[0;32m<ipython-input-52-0cb20f268a47>\u001b[0m in \u001b[0;36m<module>\u001b[0;34m()\u001b[0m\n\u001b[1;32m      9\u001b[0m \u001b[0;34m\u001b[0m\u001b[0m\n\u001b[1;32m     10\u001b[0m \u001b[0;31m#AA['ratingA'] = [4,1,2,1,5]\u001b[0m\u001b[0;34m\u001b[0m\u001b[0;34m\u001b[0m\u001b[0;34m\u001b[0m\u001b[0m\n\u001b[0;32m---> 11\u001b[0;31m \u001b[0mnum1\u001b[0m \u001b[0;34m=\u001b[0m \u001b[0mint\u001b[0m\u001b[0;34m(\u001b[0m\u001b[0minput\u001b[0m\u001b[0;34m(\u001b[0m\u001b[0;34m\"How many numbers woudld you like to add for A??: \"\u001b[0m\u001b[0;34m)\u001b[0m\u001b[0;34m)\u001b[0m\u001b[0;34m\u001b[0m\u001b[0;34m\u001b[0m\u001b[0m\n\u001b[0m\u001b[1;32m     12\u001b[0m \u001b[0;34m\u001b[0m\u001b[0m\n\u001b[1;32m     13\u001b[0m \u001b[0ml2\u001b[0m \u001b[0;34m=\u001b[0m \u001b[0mlist\u001b[0m\u001b[0;34m(\u001b[0m\u001b[0mmap\u001b[0m\u001b[0;34m(\u001b[0m\u001b[0mint\u001b[0m\u001b[0;34m,\u001b[0m\u001b[0minput\u001b[0m\u001b[0;34m(\u001b[0m\u001b[0;34m\"Please enter the numbers with a space between them: \"\u001b[0m\u001b[0;34m)\u001b[0m\u001b[0;34m.\u001b[0m\u001b[0mstrip\u001b[0m\u001b[0;34m(\u001b[0m\u001b[0;34m)\u001b[0m\u001b[0;34m.\u001b[0m\u001b[0msplit\u001b[0m\u001b[0;34m(\u001b[0m\u001b[0;34m)\u001b[0m\u001b[0;34m)\u001b[0m\u001b[0;34m)\u001b[0m\u001b[0;34m[\u001b[0m\u001b[0;34m:\u001b[0m\u001b[0mnum1\u001b[0m\u001b[0;34m]\u001b[0m\u001b[0;34m\u001b[0m\u001b[0;34m\u001b[0m\u001b[0m\n",
            "\u001b[0;31mValueError\u001b[0m: invalid literal for int() with base 10: '1 2 3 4 5'"
          ]
        }
      ]
    },
    {
      "cell_type": "code",
      "source": [
        "# step 5: add partial scores to get the total scores\n",
        "#which solution is the winner? the one with the higest total score \n",
        "\n",
        "totalScoreA=0\n",
        "totalScoreB=0\n",
        "for index,row in AA.iterrows():\n",
        "  totalScoreA+=row['scoreA']\n",
        "  totalScoreB+=row['scoreB']\n",
        "print('the total score for a is {:.2f} and for B is {:.2f}'.format(totalScoreA,totalScoreB))"
      ],
      "metadata": {
        "colab": {
          "base_uri": "https://localhost:8080/"
        },
        "id": "11AZudLTs7y2",
        "outputId": "65c106b7-218d-46b8-f36b-b7db15d516e8"
      },
      "execution_count": null,
      "outputs": [
        {
          "output_type": "stream",
          "name": "stdout",
          "text": [
            "the total score for a is 3.15 and for B is 3.60\n"
          ]
        }
      ]
    }
  ]
}